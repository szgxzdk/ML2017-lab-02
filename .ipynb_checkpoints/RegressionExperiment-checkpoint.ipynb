{
 "cells": [
  {
   "cell_type": "code",
   "execution_count": 3,
   "metadata": {},
   "outputs": [],
   "source": [
    "# created by Swain, 2017-12-14, 13:25\n",
    "\n",
    "import numpy\n",
    "import matplotlib.pyplot as plot\n",
    "from numpy import random\n",
    "from sklearn.datasets import load_svmlight_file\n",
    "\n",
    "#load a9a dataset\n",
    "#training dataset\n",
    "data = load_svmlight_file('./a9a')\n",
    "X_train = data[0].toarray()\n",
    "y_train = data[1]\n",
    "data = load_svmlight_file('./a9a.t')\n",
    "X_vali = data[0].toarray()\n",
    "y_vali = data[1]\n",
    "\n",
    "#complete the martrix\n",
    "X_vali = numpy.column_stack((X_vali, numpy.zeros((X_vali.shape[0]))))\n",
    "\n",
    "#add a constant-bias-column to X\n",
    "X_train = numpy.column_stack((X_train, numpy.ones((X_train.shape[0]))))\n",
    "X_vali = numpy.column_stack((X_vali, numpy.ones((X_vali.shape[0]))))\n",
    "\n",
    "#create weight array with initial values in normal distribution\n",
    "d = X_train.shape[1]\n",
    "W_init = numpy.random.normal(size=d)"
   ]
  },
  {
   "cell_type": "markdown",
   "metadata": {},
   "source": [
    "Loss function(Log-likehood loss function)\n",
    "$$L = \\frac{1}{n}\\sum_{i=1}^{n}\\; log\\left ( 1+ e^{-y_{i}W^{T}x_{i}} \\right) + \\frac{\\lambda }{2}||W||^2 $$\n",
    "The gradient of the loss fuction\n",
    "$$G = \\frac{1}{n}\\sum_{i=1}^{n}\\; \\frac{-y_{i}x_{i}}{1+ e^{y_{i}W^{T}x_{i}}} +\\lambda W$$\n",
    "$\\lambda$ is the regularization parameter."
   ]
  },
  {
   "cell_type": "code",
   "execution_count": 22,
   "metadata": {
    "collapsed": true
   },
   "outputs": [],
   "source": [
    "#define loss function\n",
    "def loss(X, W, y, _lambda):\n",
    "    y_predict = numpy.dot(X, W)\n",
    "    return numpy.sum(numpy.log(1 + numpy.exp(-y * y_predict))) / X.shape[0] + _lambda / 2 * np.dot(W, W.T)\n",
    "\n",
    "#define gradient function\n",
    "def grad(X, W, y, _lambda):\n",
    "    y_predict = numpy.dot(X, W)\n",
    "    return numpy.dot(((-y) / (1 + numpy.exp(y * y_predict))), X) / X.shape[0] + W * _lambda\n",
    "\n",
    "#shuffle the array\n",
    "def shuffle_array(X_train):\n",
    "    randomlist = np.arange(X_train.shape[0])\n",
    "    np.random.shuffle(randomlist)\n",
    "    X_random = X_train[randomlist]\n",
    "    y_random = y_train[randomlist]\n",
    "    return X_random,y_random\n",
    "\n",
    "#get the training instance and label in current batch\n",
    "def get_Batch(runs,X_random,y_random,batch_size,shape):\n",
    "    if l == runs - 1:\n",
    "        X_batch = X_random[l * batch_size : shape + 1]\n",
    "        y_batch = y_random[l * batch_size : shape + 1]\n",
    "    else:\n",
    "        X_batch = X_random[l * batch_size : (l+1) * batch_size]\n",
    "        y_batch = y_random[l * batch_size : (l+1) * batch_size]\n",
    "    return X_batch,y_batch"
   ]
  },
  {
   "cell_type": "code",
   "execution_count": 33,
   "metadata": {
    "collapsed": true
   },
   "outputs": [],
   "source": [
    "#parameters: learning rate and #iteration\n",
    "lrs = [0.05, 0.1, 0.2, 0.4]\n",
    "iteration = 100\n",
    "\n",
    "#used to save results\n",
    "loss_train = []\n",
    "loss_vali = []\n",
    "\n",
    "for i in range(0, len(lrs)):\n",
    "    #reset W\n",
    "    W = W_init\n",
    "    loss_train.append(numpy.zeros(iteration))\n",
    "    loss_vali.append(numpy.zeros(iteration))\n",
    "    for j in range(0, iteration):\n",
    "        #calculate loss on both training and validation datasets\n",
    "        loss_train[i][j] = loss(X_train, W, y_train)\n",
    "        loss_vali[i][j] = loss(X_vali, W, y_vali)\n",
    "        #update weight according to gradient\n",
    "        W = W - grad(X_train, W, y_train) * lrs[i]"
   ]
  },
  {
   "cell_type": "code",
   "execution_count": 34,
   "metadata": {},
   "outputs": [
    {
     "data": {
      "image/png": "[encoded data removed]",
      "text/plain": [
       "<matplotlib.figure.Figure at 0x7fd84d701b70>"
      ]
     },
     "metadata": {},
     "output_type": "display_data"
    }
   ],
   "source": [
    "for i in range(0, len(lrs)):\n",
    "    plot.plot(loss_vali[i], label=\"lr = \" + str(lrs[i]))\n",
    "plot.legend()\n",
    "plot.xlabel(\"Iteration\")\n",
    "plot.ylabel(\"Validation Loss\")\n",
    "plot.title(\"Linear Regression\")\n",
    "plot.show()"
   ]
  },
  {
   "cell_type": "code",
   "execution_count": null,
   "metadata": {
    "collapsed": true
   },
   "outputs": [],
   "source": []
  }
 ],
 "metadata": {
  "kernelspec": {
   "display_name": "Python 3",
   "language": "python",
   "name": "python3"
  },
  "language_info": {
   "codemirror_mode": {
    "name": "ipython",
    "version": 3
   },
   "file_extension": ".py",
   "mimetype": "text/x-python",
   "name": "python",
   "nbconvert_exporter": "python",
   "pygments_lexer": "ipython3",
   "version": "3.6.3"
  }
 },
 "nbformat": 4,
 "nbformat_minor": 2
}
